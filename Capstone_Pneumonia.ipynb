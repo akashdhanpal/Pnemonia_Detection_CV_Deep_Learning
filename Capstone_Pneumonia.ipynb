{
  "nbformat": 4,
  "nbformat_minor": 0,
  "metadata": {
    "colab": {
      "name": "Akash - Capstone Pneumonia.ipynb",
      "provenance": [],
      "collapsed_sections": [],
      "toc_visible": true,
      "include_colab_link": true
    },
    "kernelspec": {
      "name": "python3",
      "display_name": "Python 3"
    }
  },
  "cells": [
    {
      "cell_type": "markdown",
      "metadata": {
        "id": "view-in-github",
        "colab_type": "text"
      },
      "source": [
        "<a href=\"https://colab.research.google.com/github/akashdhanpal/Pnemonia_Detection_CV_Deep_Learning/blob/main/Capstone_Pneumonia.ipynb\" target=\"_parent\"><img src=\"https://colab.research.google.com/assets/colab-badge.svg\" alt=\"Open In Colab\"/></a>"
      ]
    },
    {
      "cell_type": "code",
      "metadata": {
        "id": "h8BqKloWUa6B",
        "colab": {
          "base_uri": "https://localhost:8080/"
        },
        "outputId": "5c79c787-3f81-40ea-bea6-762c8c787a91"
      },
      "source": [
        "%cd /content/drive/My Drive/Capstone/"
      ],
      "execution_count": null,
      "outputs": [
        {
          "output_type": "stream",
          "text": [
            "/content/drive/My Drive/Capstone\n"
          ],
          "name": "stdout"
        }
      ]
    },
    {
      "cell_type": "code",
      "metadata": {
        "id": "IyDXORpOU2Hx"
      },
      "source": [
        "#unzipping the zip files and deleting the zip files\n",
        "!unzip \\*.zip  && rm *.zip"
      ],
      "execution_count": null,
      "outputs": []
    },
    {
      "cell_type": "code",
      "metadata": {
        "id": "kVeZ4e2Hd8BD",
        "colab": {
          "base_uri": "https://localhost:8080/"
        },
        "outputId": "b78a487c-e341-40d5-a320-a76dfef51d82"
      },
      "source": [
        "!pip install pydicom"
      ],
      "execution_count": null,
      "outputs": [
        {
          "output_type": "stream",
          "text": [
            "Collecting pydicom\n",
            "\u001b[?25l  Downloading https://files.pythonhosted.org/packages/72/7b/6ed88f82dd33a32cdb43432dab7f84fcd40c49d63251442b3cfe0be983d4/pydicom-2.1.1-py3-none-any.whl (1.9MB)\n",
            "\r\u001b[K     |▏                               | 10kB 16.7MB/s eta 0:00:01\r\u001b[K     |▍                               | 20kB 23.5MB/s eta 0:00:01\r\u001b[K     |▌                               | 30kB 27.3MB/s eta 0:00:01\r\u001b[K     |▊                               | 40kB 19.2MB/s eta 0:00:01\r\u001b[K     |▉                               | 51kB 17.2MB/s eta 0:00:01\r\u001b[K     |█                               | 61kB 18.9MB/s eta 0:00:01\r\u001b[K     |█▏                              | 71kB 15.8MB/s eta 0:00:01\r\u001b[K     |█▍                              | 81kB 13.9MB/s eta 0:00:01\r\u001b[K     |█▋                              | 92kB 13.0MB/s eta 0:00:01\r\u001b[K     |█▊                              | 102kB 12.6MB/s eta 0:00:01\r\u001b[K     |██                              | 112kB 12.6MB/s eta 0:00:01\r\u001b[K     |██                              | 122kB 12.6MB/s eta 0:00:01\r\u001b[K     |██▎                             | 133kB 12.6MB/s eta 0:00:01\r\u001b[K     |██▍                             | 143kB 12.6MB/s eta 0:00:01\r\u001b[K     |██▋                             | 153kB 12.6MB/s eta 0:00:01\r\u001b[K     |██▉                             | 163kB 12.6MB/s eta 0:00:01\r\u001b[K     |███                             | 174kB 12.6MB/s eta 0:00:01\r\u001b[K     |███▏                            | 184kB 12.6MB/s eta 0:00:01\r\u001b[K     |███▎                            | 194kB 12.6MB/s eta 0:00:01\r\u001b[K     |███▌                            | 204kB 12.6MB/s eta 0:00:01\r\u001b[K     |███▋                            | 215kB 12.6MB/s eta 0:00:01\r\u001b[K     |███▉                            | 225kB 12.6MB/s eta 0:00:01\r\u001b[K     |████                            | 235kB 12.6MB/s eta 0:00:01\r\u001b[K     |████▏                           | 245kB 12.6MB/s eta 0:00:01\r\u001b[K     |████▍                           | 256kB 12.6MB/s eta 0:00:01\r\u001b[K     |████▌                           | 266kB 12.6MB/s eta 0:00:01\r\u001b[K     |████▊                           | 276kB 12.6MB/s eta 0:00:01\r\u001b[K     |████▉                           | 286kB 12.6MB/s eta 0:00:01\r\u001b[K     |█████                           | 296kB 12.6MB/s eta 0:00:01\r\u001b[K     |█████▎                          | 307kB 12.6MB/s eta 0:00:01\r\u001b[K     |█████▍                          | 317kB 12.6MB/s eta 0:00:01\r\u001b[K     |█████▋                          | 327kB 12.6MB/s eta 0:00:01\r\u001b[K     |█████▊                          | 337kB 12.6MB/s eta 0:00:01\r\u001b[K     |██████                          | 348kB 12.6MB/s eta 0:00:01\r\u001b[K     |██████                          | 358kB 12.6MB/s eta 0:00:01\r\u001b[K     |██████▎                         | 368kB 12.6MB/s eta 0:00:01\r\u001b[K     |██████▌                         | 378kB 12.6MB/s eta 0:00:01\r\u001b[K     |██████▋                         | 389kB 12.6MB/s eta 0:00:01\r\u001b[K     |██████▉                         | 399kB 12.6MB/s eta 0:00:01\r\u001b[K     |███████                         | 409kB 12.6MB/s eta 0:00:01\r\u001b[K     |███████▏                        | 419kB 12.6MB/s eta 0:00:01\r\u001b[K     |███████▎                        | 430kB 12.6MB/s eta 0:00:01\r\u001b[K     |███████▌                        | 440kB 12.6MB/s eta 0:00:01\r\u001b[K     |███████▊                        | 450kB 12.6MB/s eta 0:00:01\r\u001b[K     |███████▉                        | 460kB 12.6MB/s eta 0:00:01\r\u001b[K     |████████                        | 471kB 12.6MB/s eta 0:00:01\r\u001b[K     |████████▏                       | 481kB 12.6MB/s eta 0:00:01\r\u001b[K     |████████▍                       | 491kB 12.6MB/s eta 0:00:01\r\u001b[K     |████████▌                       | 501kB 12.6MB/s eta 0:00:01\r\u001b[K     |████████▊                       | 512kB 12.6MB/s eta 0:00:01\r\u001b[K     |█████████                       | 522kB 12.6MB/s eta 0:00:01\r\u001b[K     |█████████                       | 532kB 12.6MB/s eta 0:00:01\r\u001b[K     |█████████▎                      | 542kB 12.6MB/s eta 0:00:01\r\u001b[K     |█████████▍                      | 552kB 12.6MB/s eta 0:00:01\r\u001b[K     |█████████▋                      | 563kB 12.6MB/s eta 0:00:01\r\u001b[K     |█████████▊                      | 573kB 12.6MB/s eta 0:00:01\r\u001b[K     |██████████                      | 583kB 12.6MB/s eta 0:00:01\r\u001b[K     |██████████▏                     | 593kB 12.6MB/s eta 0:00:01\r\u001b[K     |██████████▎                     | 604kB 12.6MB/s eta 0:00:01\r\u001b[K     |██████████▌                     | 614kB 12.6MB/s eta 0:00:01\r\u001b[K     |██████████▋                     | 624kB 12.6MB/s eta 0:00:01\r\u001b[K     |██████████▉                     | 634kB 12.6MB/s eta 0:00:01\r\u001b[K     |███████████                     | 645kB 12.6MB/s eta 0:00:01\r\u001b[K     |███████████▏                    | 655kB 12.6MB/s eta 0:00:01\r\u001b[K     |███████████▍                    | 665kB 12.6MB/s eta 0:00:01\r\u001b[K     |███████████▌                    | 675kB 12.6MB/s eta 0:00:01\r\u001b[K     |███████████▊                    | 686kB 12.6MB/s eta 0:00:01\r\u001b[K     |███████████▉                    | 696kB 12.6MB/s eta 0:00:01\r\u001b[K     |████████████                    | 706kB 12.6MB/s eta 0:00:01\r\u001b[K     |████████████▏                   | 716kB 12.6MB/s eta 0:00:01\r\u001b[K     |████████████▍                   | 727kB 12.6MB/s eta 0:00:01\r\u001b[K     |████████████▋                   | 737kB 12.6MB/s eta 0:00:01\r\u001b[K     |████████████▊                   | 747kB 12.6MB/s eta 0:00:01\r\u001b[K     |█████████████                   | 757kB 12.6MB/s eta 0:00:01\r\u001b[K     |█████████████                   | 768kB 12.6MB/s eta 0:00:01\r\u001b[K     |█████████████▎                  | 778kB 12.6MB/s eta 0:00:01\r\u001b[K     |█████████████▍                  | 788kB 12.6MB/s eta 0:00:01\r\u001b[K     |█████████████▋                  | 798kB 12.6MB/s eta 0:00:01\r\u001b[K     |█████████████▉                  | 808kB 12.6MB/s eta 0:00:01\r\u001b[K     |██████████████                  | 819kB 12.6MB/s eta 0:00:01\r\u001b[K     |██████████████▏                 | 829kB 12.6MB/s eta 0:00:01\r\u001b[K     |██████████████▎                 | 839kB 12.6MB/s eta 0:00:01\r\u001b[K     |██████████████▌                 | 849kB 12.6MB/s eta 0:00:01\r\u001b[K     |██████████████▋                 | 860kB 12.6MB/s eta 0:00:01\r\u001b[K     |██████████████▉                 | 870kB 12.6MB/s eta 0:00:01\r\u001b[K     |███████████████                 | 880kB 12.6MB/s eta 0:00:01\r\u001b[K     |███████████████▏                | 890kB 12.6MB/s eta 0:00:01\r\u001b[K     |███████████████▍                | 901kB 12.6MB/s eta 0:00:01\r\u001b[K     |███████████████▌                | 911kB 12.6MB/s eta 0:00:01\r\u001b[K     |███████████████▊                | 921kB 12.6MB/s eta 0:00:01\r\u001b[K     |███████████████▉                | 931kB 12.6MB/s eta 0:00:01\r\u001b[K     |████████████████                | 942kB 12.6MB/s eta 0:00:01\r\u001b[K     |████████████████▎               | 952kB 12.6MB/s eta 0:00:01\r\u001b[K     |████████████████▍               | 962kB 12.6MB/s eta 0:00:01\r\u001b[K     |████████████████▋               | 972kB 12.6MB/s eta 0:00:01\r\u001b[K     |████████████████▊               | 983kB 12.6MB/s eta 0:00:01\r\u001b[K     |█████████████████               | 993kB 12.6MB/s eta 0:00:01\r\u001b[K     |█████████████████               | 1.0MB 12.6MB/s eta 0:00:01\r\u001b[K     |█████████████████▎              | 1.0MB 12.6MB/s eta 0:00:01\r\u001b[K     |█████████████████▌              | 1.0MB 12.6MB/s eta 0:00:01\r\u001b[K     |█████████████████▋              | 1.0MB 12.6MB/s eta 0:00:01\r\u001b[K     |█████████████████▉              | 1.0MB 12.6MB/s eta 0:00:01\r\u001b[K     |██████████████████              | 1.1MB 12.6MB/s eta 0:00:01\r\u001b[K     |██████████████████▏             | 1.1MB 12.6MB/s eta 0:00:01\r\u001b[K     |██████████████████▎             | 1.1MB 12.6MB/s eta 0:00:01\r\u001b[K     |██████████████████▌             | 1.1MB 12.6MB/s eta 0:00:01\r\u001b[K     |██████████████████▊             | 1.1MB 12.6MB/s eta 0:00:01\r\u001b[K     |██████████████████▉             | 1.1MB 12.6MB/s eta 0:00:01\r\u001b[K     |███████████████████             | 1.1MB 12.6MB/s eta 0:00:01\r\u001b[K     |███████████████████▏            | 1.1MB 12.6MB/s eta 0:00:01\r\u001b[K     |███████████████████▍            | 1.1MB 12.6MB/s eta 0:00:01\r\u001b[K     |███████████████████▌            | 1.1MB 12.6MB/s eta 0:00:01\r\u001b[K     |███████████████████▊            | 1.2MB 12.6MB/s eta 0:00:01\r\u001b[K     |████████████████████            | 1.2MB 12.6MB/s eta 0:00:01\r\u001b[K     |████████████████████            | 1.2MB 12.6MB/s eta 0:00:01\r\u001b[K     |████████████████████▎           | 1.2MB 12.6MB/s eta 0:00:01\r\u001b[K     |████████████████████▍           | 1.2MB 12.6MB/s eta 0:00:01\r\u001b[K     |████████████████████▋           | 1.2MB 12.6MB/s eta 0:00:01\r\u001b[K     |████████████████████▊           | 1.2MB 12.6MB/s eta 0:00:01\r\u001b[K     |█████████████████████           | 1.2MB 12.6MB/s eta 0:00:01\r\u001b[K     |█████████████████████▏          | 1.2MB 12.6MB/s eta 0:00:01\r\u001b[K     |█████████████████████▎          | 1.2MB 12.6MB/s eta 0:00:01\r\u001b[K     |█████████████████████▌          | 1.3MB 12.6MB/s eta 0:00:01\r\u001b[K     |█████████████████████▋          | 1.3MB 12.6MB/s eta 0:00:01\r\u001b[K     |█████████████████████▉          | 1.3MB 12.6MB/s eta 0:00:01\r\u001b[K     |██████████████████████          | 1.3MB 12.6MB/s eta 0:00:01\r\u001b[K     |██████████████████████▏         | 1.3MB 12.6MB/s eta 0:00:01\r\u001b[K     |██████████████████████▍         | 1.3MB 12.6MB/s eta 0:00:01\r\u001b[K     |██████████████████████▌         | 1.3MB 12.6MB/s eta 0:00:01\r\u001b[K     |██████████████████████▊         | 1.3MB 12.6MB/s eta 0:00:01\r\u001b[K     |██████████████████████▉         | 1.3MB 12.6MB/s eta 0:00:01\r\u001b[K     |███████████████████████         | 1.4MB 12.6MB/s eta 0:00:01\r\u001b[K     |███████████████████████▏        | 1.4MB 12.6MB/s eta 0:00:01\r\u001b[K     |███████████████████████▍        | 1.4MB 12.6MB/s eta 0:00:01\r\u001b[K     |███████████████████████▋        | 1.4MB 12.6MB/s eta 0:00:01\r\u001b[K     |███████████████████████▊        | 1.4MB 12.6MB/s eta 0:00:01\r\u001b[K     |████████████████████████        | 1.4MB 12.6MB/s eta 0:00:01\r\u001b[K     |████████████████████████        | 1.4MB 12.6MB/s eta 0:00:01\r\u001b[K     |████████████████████████▎       | 1.4MB 12.6MB/s eta 0:00:01\r\u001b[K     |████████████████████████▍       | 1.4MB 12.6MB/s eta 0:00:01\r\u001b[K     |████████████████████████▋       | 1.4MB 12.6MB/s eta 0:00:01\r\u001b[K     |████████████████████████▉       | 1.5MB 12.6MB/s eta 0:00:01\r\u001b[K     |█████████████████████████       | 1.5MB 12.6MB/s eta 0:00:01\r\u001b[K     |█████████████████████████▏      | 1.5MB 12.6MB/s eta 0:00:01\r\u001b[K     |█████████████████████████▎      | 1.5MB 12.6MB/s eta 0:00:01\r\u001b[K     |█████████████████████████▌      | 1.5MB 12.6MB/s eta 0:00:01\r\u001b[K     |█████████████████████████▋      | 1.5MB 12.6MB/s eta 0:00:01\r\u001b[K     |█████████████████████████▉      | 1.5MB 12.6MB/s eta 0:00:01\r\u001b[K     |██████████████████████████      | 1.5MB 12.6MB/s eta 0:00:01\r\u001b[K     |██████████████████████████▏     | 1.5MB 12.6MB/s eta 0:00:01\r\u001b[K     |██████████████████████████▍     | 1.5MB 12.6MB/s eta 0:00:01\r\u001b[K     |██████████████████████████▌     | 1.6MB 12.6MB/s eta 0:00:01\r\u001b[K     |██████████████████████████▊     | 1.6MB 12.6MB/s eta 0:00:01\r\u001b[K     |██████████████████████████▉     | 1.6MB 12.6MB/s eta 0:00:01\r\u001b[K     |███████████████████████████     | 1.6MB 12.6MB/s eta 0:00:01\r\u001b[K     |███████████████████████████▎    | 1.6MB 12.6MB/s eta 0:00:01\r\u001b[K     |███████████████████████████▍    | 1.6MB 12.6MB/s eta 0:00:01\r\u001b[K     |███████████████████████████▋    | 1.6MB 12.6MB/s eta 0:00:01\r\u001b[K     |███████████████████████████▊    | 1.6MB 12.6MB/s eta 0:00:01\r\u001b[K     |████████████████████████████    | 1.6MB 12.6MB/s eta 0:00:01\r\u001b[K     |████████████████████████████    | 1.6MB 12.6MB/s eta 0:00:01\r\u001b[K     |████████████████████████████▎   | 1.7MB 12.6MB/s eta 0:00:01\r\u001b[K     |████████████████████████████▌   | 1.7MB 12.6MB/s eta 0:00:01\r\u001b[K     |████████████████████████████▋   | 1.7MB 12.6MB/s eta 0:00:01\r\u001b[K     |████████████████████████████▉   | 1.7MB 12.6MB/s eta 0:00:01\r\u001b[K     |█████████████████████████████   | 1.7MB 12.6MB/s eta 0:00:01\r\u001b[K     |█████████████████████████████▏  | 1.7MB 12.6MB/s eta 0:00:01\r\u001b[K     |█████████████████████████████▎  | 1.7MB 12.6MB/s eta 0:00:01\r\u001b[K     |█████████████████████████████▌  | 1.7MB 12.6MB/s eta 0:00:01\r\u001b[K     |█████████████████████████████▊  | 1.7MB 12.6MB/s eta 0:00:01\r\u001b[K     |█████████████████████████████▉  | 1.8MB 12.6MB/s eta 0:00:01\r\u001b[K     |██████████████████████████████  | 1.8MB 12.6MB/s eta 0:00:01\r\u001b[K     |██████████████████████████████▏ | 1.8MB 12.6MB/s eta 0:00:01\r\u001b[K     |██████████████████████████████▍ | 1.8MB 12.6MB/s eta 0:00:01\r\u001b[K     |██████████████████████████████▌ | 1.8MB 12.6MB/s eta 0:00:01\r\u001b[K     |██████████████████████████████▊ | 1.8MB 12.6MB/s eta 0:00:01\r\u001b[K     |███████████████████████████████ | 1.8MB 12.6MB/s eta 0:00:01\r\u001b[K     |███████████████████████████████ | 1.8MB 12.6MB/s eta 0:00:01\r\u001b[K     |███████████████████████████████▎| 1.8MB 12.6MB/s eta 0:00:01\r\u001b[K     |███████████████████████████████▍| 1.8MB 12.6MB/s eta 0:00:01\r\u001b[K     |███████████████████████████████▋| 1.9MB 12.6MB/s eta 0:00:01\r\u001b[K     |███████████████████████████████▊| 1.9MB 12.6MB/s eta 0:00:01\r\u001b[K     |████████████████████████████████| 1.9MB 12.6MB/s eta 0:00:01\r\u001b[K     |████████████████████████████████| 1.9MB 12.6MB/s \n",
            "\u001b[?25hInstalling collected packages: pydicom\n",
            "Successfully installed pydicom-2.1.1\n"
          ],
          "name": "stdout"
        }
      ]
    },
    {
      "cell_type": "code",
      "metadata": {
        "id": "JSq1cBCbZEkg"
      },
      "source": [
        "import glob, pylab, pandas as pd\n",
        "import pydicom as dicom\n",
        "import numpy as np\n",
        "from os import listdir\n",
        "from os.path import isfile, join"
      ],
      "execution_count": null,
      "outputs": []
    },
    {
      "cell_type": "code",
      "metadata": {
        "id": "vBPFxHvMdkAS"
      },
      "source": [
        "labels = pd.read_csv('/content/drive/My Drive/Capstone/stage_2_train_labels.csv')"
      ],
      "execution_count": null,
      "outputs": []
    },
    {
      "cell_type": "code",
      "metadata": {
        "id": "HBZdbYozeqRD",
        "colab": {
          "base_uri": "https://localhost:8080/"
        },
        "outputId": "6a67e85e-4b0f-4e14-fa6b-d36cc66a9730"
      },
      "source": [
        "print(labels.iloc[4])"
      ],
      "execution_count": null,
      "outputs": [
        {
          "output_type": "stream",
          "text": [
            "patientId    00436515-870c-4b36-a041-de91049b9ab4\n",
            "x                                             264\n",
            "y                                             152\n",
            "width                                         213\n",
            "height                                        379\n",
            "Target                                          1\n",
            "Name: 4, dtype: object\n"
          ],
          "name": "stdout"
        }
      ]
    },
    {
      "cell_type": "code",
      "metadata": {
        "id": "kJP365MsuS8c",
        "colab": {
          "base_uri": "https://localhost:8080/"
        },
        "outputId": "0143d163-cb4b-4de2-9beb-c9ff499738f0"
      },
      "source": [
        "# read a single patient dicom image file to check its header and metadata\n",
        "\n",
        "patientId = labels['patientId'][0]\n",
        "dcm_file = '/content/drive/My Drive/Capstone/stage_2_train_images/%s.dcm' % patientId\n",
        "dcm_data = dicom.read_file(dcm_file)\n",
        "\n",
        "print(dcm_data)"
      ],
      "execution_count": null,
      "outputs": [
        {
          "output_type": "stream",
          "text": [
            "Dataset.file_meta -------------------------------\n",
            "(0002, 0000) File Meta Information Group Length  UL: 202\n",
            "(0002, 0001) File Meta Information Version       OB: b'\\x00\\x01'\n",
            "(0002, 0002) Media Storage SOP Class UID         UI: Secondary Capture Image Storage\n",
            "(0002, 0003) Media Storage SOP Instance UID      UI: 1.2.276.0.7230010.3.1.4.8323329.28530.1517874485.775526\n",
            "(0002, 0010) Transfer Syntax UID                 UI: JPEG Baseline (Process 1)\n",
            "(0002, 0012) Implementation Class UID            UI: 1.2.276.0.7230010.3.0.3.6.0\n",
            "(0002, 0013) Implementation Version Name         SH: 'OFFIS_DCMTK_360'\n",
            "-------------------------------------------------\n",
            "(0008, 0005) Specific Character Set              CS: 'ISO_IR 100'\n",
            "(0008, 0016) SOP Class UID                       UI: Secondary Capture Image Storage\n",
            "(0008, 0018) SOP Instance UID                    UI: 1.2.276.0.7230010.3.1.4.8323329.28530.1517874485.775526\n",
            "(0008, 0020) Study Date                          DA: '19010101'\n",
            "(0008, 0030) Study Time                          TM: '000000.00'\n",
            "(0008, 0050) Accession Number                    SH: ''\n",
            "(0008, 0060) Modality                            CS: 'CR'\n",
            "(0008, 0064) Conversion Type                     CS: 'WSD'\n",
            "(0008, 0090) Referring Physician's Name          PN: ''\n",
            "(0008, 103e) Series Description                  LO: 'view: PA'\n",
            "(0010, 0010) Patient's Name                      PN: '0004cfab-14fd-4e49-80ba-63a80b6bddd6'\n",
            "(0010, 0020) Patient ID                          LO: '0004cfab-14fd-4e49-80ba-63a80b6bddd6'\n",
            "(0010, 0030) Patient's Birth Date                DA: ''\n",
            "(0010, 0040) Patient's Sex                       CS: 'F'\n",
            "(0010, 1010) Patient's Age                       AS: '51'\n",
            "(0018, 0015) Body Part Examined                  CS: 'CHEST'\n",
            "(0018, 5101) View Position                       CS: 'PA'\n",
            "(0020, 000d) Study Instance UID                  UI: 1.2.276.0.7230010.3.1.2.8323329.28530.1517874485.775525\n",
            "(0020, 000e) Series Instance UID                 UI: 1.2.276.0.7230010.3.1.3.8323329.28530.1517874485.775524\n",
            "(0020, 0010) Study ID                            SH: ''\n",
            "(0020, 0011) Series Number                       IS: \"1\"\n",
            "(0020, 0013) Instance Number                     IS: \"1\"\n",
            "(0020, 0020) Patient Orientation                 CS: ''\n",
            "(0028, 0002) Samples per Pixel                   US: 1\n",
            "(0028, 0004) Photometric Interpretation          CS: 'MONOCHROME2'\n",
            "(0028, 0010) Rows                                US: 1024\n",
            "(0028, 0011) Columns                             US: 1024\n",
            "(0028, 0030) Pixel Spacing                       DS: [0.14300000000000002, 0.14300000000000002]\n",
            "(0028, 0100) Bits Allocated                      US: 8\n",
            "(0028, 0101) Bits Stored                         US: 8\n",
            "(0028, 0102) High Bit                            US: 7\n",
            "(0028, 0103) Pixel Representation                US: 0\n",
            "(0028, 2110) Lossy Image Compression             CS: '01'\n",
            "(0028, 2114) Lossy Image Compression Method      CS: 'ISO_10918_1'\n",
            "(7fe0, 0010) Pixel Data                          OB: Array of 142006 elements\n"
          ],
          "name": "stdout"
        }
      ]
    },
    {
      "cell_type": "code",
      "metadata": {
        "id": "_oZexjGnvMWv",
        "colab": {
          "base_uri": "https://localhost:8080/"
        },
        "outputId": "cb5a3fda-e4cb-4ff4-ab40-92d06bc15982"
      },
      "source": [
        "# Accessing underlying pixel data\n",
        "\n",
        "im = dcm_data.pixel_array\n",
        "print(type(im))\n",
        "print(im.dtype)\n",
        "print(im.shape)"
      ],
      "execution_count": null,
      "outputs": [
        {
          "output_type": "stream",
          "text": [
            "<class 'numpy.ndarray'>\n",
            "uint8\n",
            "(1024, 1024)\n"
          ],
          "name": "stdout"
        }
      ]
    },
    {
      "cell_type": "code",
      "metadata": {
        "id": "eFfPpdSezhu2",
        "colab": {
          "base_uri": "https://localhost:8080/",
          "height": 265
        },
        "outputId": "e69de92d-11d6-466a-d75f-8e466de6d707"
      },
      "source": [
        "pylab.imshow(im, cmap=pylab.cm.gist_gray)\n",
        "pylab.axis('off')"
      ],
      "execution_count": null,
      "outputs": [
        {
          "output_type": "execute_result",
          "data": {
            "text/plain": [
              "(-0.5, 1023.5, 1023.5, -0.5)"
            ]
          },
          "metadata": {
            "tags": []
          },
          "execution_count": 13
        },
        {
          "output_type": "display_data",
          "data": {
            "image/png": "[encoded data removed]",
            "text/plain": [
              "<Figure size 432x288 with 1 Axes>"
            ]
          },
          "metadata": {
            "tags": [],
            "needs_background": "light"
          }
        }
      ]
    },
    {
      "cell_type": "markdown",
      "metadata": {
        "id": "L-_Nc-YnmN20"
      },
      "source": [
        "#**Basic EDA**"
      ]
    },
    {
      "cell_type": "code",
      "metadata": {
        "id": "Jfbf9uY9nGy0"
      },
      "source": [
        "import gc\n",
        "import warnings\n",
        "warnings.simplefilter(action = 'ignore')"
      ],
      "execution_count": null,
      "outputs": []
    },
    {
      "cell_type": "code",
      "metadata": {
        "id": "Q9ZE9l39lscY",
        "colab": {
          "base_uri": "https://localhost:8080/"
        },
        "outputId": "7812304f-516c-4f7b-f7c3-03971a0d3073"
      },
      "source": [
        "# Load the data\n",
        "\n",
        "class_info = pd.read_csv('/content/drive/My Drive/Capstone/stage_2_detailed_class_info.csv')\n",
        "train_labels = pd.read_csv('/content/drive/My Drive/Capstone/stage_2_train_labels.csv')\n",
        "\n",
        "data = pd.merge(left = class_info, right = train_labels, how = 'left', on = 'patientId')\n",
        "\n",
        "del class_info, train_labels\n",
        "gc.collect()\n",
        "\n",
        "data.info(null_counts = True)"
      ],
      "execution_count": null,
      "outputs": [
        {
          "output_type": "stream",
          "text": [
            "<class 'pandas.core.frame.DataFrame'>\n",
            "Int64Index: 37629 entries, 0 to 37628\n",
            "Data columns (total 7 columns):\n",
            " #   Column     Non-Null Count  Dtype  \n",
            "---  ------     --------------  -----  \n",
            " 0   patientId  37629 non-null  object \n",
            " 1   class      37629 non-null  object \n",
            " 2   x          16957 non-null  float64\n",
            " 3   y          16957 non-null  float64\n",
            " 4   width      16957 non-null  float64\n",
            " 5   height     16957 non-null  float64\n",
            " 6   Target     37629 non-null  int64  \n",
            "dtypes: float64(4), int64(1), object(2)\n",
            "memory usage: 2.3+ MB\n"
          ],
          "name": "stdout"
        }
      ]
    },
    {
      "cell_type": "code",
      "metadata": {
        "id": "Q_VN9nypiDl0"
      },
      "source": [
        "data.shape  "
      ],
      "execution_count": null,
      "outputs": []
    },
    {
      "cell_type": "code",
      "metadata": {
        "id": "Oz0KoOthoQ8g",
        "colab": {
          "base_uri": "https://localhost:8080/",
          "height": 343
        },
        "outputId": "d98c3d56-ec62-4f2c-b8db-fc3fa9e6df07"
      },
      "source": [
        "data.head(10)"
      ],
      "execution_count": null,
      "outputs": [
        {
          "output_type": "execute_result",
          "data": {
            "text/html": [
              "<div>\n",
              "<style scoped>\n",
              "    .dataframe tbody tr th:only-of-type {\n",
              "        vertical-align: middle;\n",
              "    }\n",
              "\n",
              "    .dataframe tbody tr th {\n",
              "        vertical-align: top;\n",
              "    }\n",
              "\n",
              "    .dataframe thead th {\n",
              "        text-align: right;\n",
              "    }\n",
              "</style>\n",
              "<table border=\"1\" class=\"dataframe\">\n",
              "  <thead>\n",
              "    <tr style=\"text-align: right;\">\n",
              "      <th></th>\n",
              "      <th>patientId</th>\n",
              "      <th>class</th>\n",
              "      <th>x</th>\n",
              "      <th>y</th>\n",
              "      <th>width</th>\n",
              "      <th>height</th>\n",
              "      <th>Target</th>\n",
              "    </tr>\n",
              "  </thead>\n",
              "  <tbody>\n",
              "    <tr>\n",
              "      <th>0</th>\n",
              "      <td>0004cfab-14fd-4e49-80ba-63a80b6bddd6</td>\n",
              "      <td>No Lung Opacity / Not Normal</td>\n",
              "      <td>NaN</td>\n",
              "      <td>NaN</td>\n",
              "      <td>NaN</td>\n",
              "      <td>NaN</td>\n",
              "      <td>0</td>\n",
              "    </tr>\n",
              "    <tr>\n",
              "      <th>1</th>\n",
              "      <td>00313ee0-9eaa-42f4-b0ab-c148ed3241cd</td>\n",
              "      <td>No Lung Opacity / Not Normal</td>\n",
              "      <td>NaN</td>\n",
              "      <td>NaN</td>\n",
              "      <td>NaN</td>\n",
              "      <td>NaN</td>\n",
              "      <td>0</td>\n",
              "    </tr>\n",
              "    <tr>\n",
              "      <th>2</th>\n",
              "      <td>00322d4d-1c29-4943-afc9-b6754be640eb</td>\n",
              "      <td>No Lung Opacity / Not Normal</td>\n",
              "      <td>NaN</td>\n",
              "      <td>NaN</td>\n",
              "      <td>NaN</td>\n",
              "      <td>NaN</td>\n",
              "      <td>0</td>\n",
              "    </tr>\n",
              "    <tr>\n",
              "      <th>3</th>\n",
              "      <td>003d8fa0-6bf1-40ed-b54c-ac657f8495c5</td>\n",
              "      <td>Normal</td>\n",
              "      <td>NaN</td>\n",
              "      <td>NaN</td>\n",
              "      <td>NaN</td>\n",
              "      <td>NaN</td>\n",
              "      <td>0</td>\n",
              "    </tr>\n",
              "    <tr>\n",
              "      <th>4</th>\n",
              "      <td>00436515-870c-4b36-a041-de91049b9ab4</td>\n",
              "      <td>Lung Opacity</td>\n",
              "      <td>264.0</td>\n",
              "      <td>152.0</td>\n",
              "      <td>213.0</td>\n",
              "      <td>379.0</td>\n",
              "      <td>1</td>\n",
              "    </tr>\n",
              "    <tr>\n",
              "      <th>5</th>\n",
              "      <td>00436515-870c-4b36-a041-de91049b9ab4</td>\n",
              "      <td>Lung Opacity</td>\n",
              "      <td>562.0</td>\n",
              "      <td>152.0</td>\n",
              "      <td>256.0</td>\n",
              "      <td>453.0</td>\n",
              "      <td>1</td>\n",
              "    </tr>\n",
              "    <tr>\n",
              "      <th>6</th>\n",
              "      <td>00436515-870c-4b36-a041-de91049b9ab4</td>\n",
              "      <td>Lung Opacity</td>\n",
              "      <td>264.0</td>\n",
              "      <td>152.0</td>\n",
              "      <td>213.0</td>\n",
              "      <td>379.0</td>\n",
              "      <td>1</td>\n",
              "    </tr>\n",
              "    <tr>\n",
              "      <th>7</th>\n",
              "      <td>00436515-870c-4b36-a041-de91049b9ab4</td>\n",
              "      <td>Lung Opacity</td>\n",
              "      <td>562.0</td>\n",
              "      <td>152.0</td>\n",
              "      <td>256.0</td>\n",
              "      <td>453.0</td>\n",
              "      <td>1</td>\n",
              "    </tr>\n",
              "    <tr>\n",
              "      <th>8</th>\n",
              "      <td>00569f44-917d-4c86-a842-81832af98c30</td>\n",
              "      <td>No Lung Opacity / Not Normal</td>\n",
              "      <td>NaN</td>\n",
              "      <td>NaN</td>\n",
              "      <td>NaN</td>\n",
              "      <td>NaN</td>\n",
              "      <td>0</td>\n",
              "    </tr>\n",
              "    <tr>\n",
              "      <th>9</th>\n",
              "      <td>006cec2e-6ce2-4549-bffa-eadfcd1e9970</td>\n",
              "      <td>No Lung Opacity / Not Normal</td>\n",
              "      <td>NaN</td>\n",
              "      <td>NaN</td>\n",
              "      <td>NaN</td>\n",
              "      <td>NaN</td>\n",
              "      <td>0</td>\n",
              "    </tr>\n",
              "  </tbody>\n",
              "</table>\n",
              "</div>"
            ],
            "text/plain": [
              "                              patientId  ... Target\n",
              "0  0004cfab-14fd-4e49-80ba-63a80b6bddd6  ...      0\n",
              "1  00313ee0-9eaa-42f4-b0ab-c148ed3241cd  ...      0\n",
              "2  00322d4d-1c29-4943-afc9-b6754be640eb  ...      0\n",
              "3  003d8fa0-6bf1-40ed-b54c-ac657f8495c5  ...      0\n",
              "4  00436515-870c-4b36-a041-de91049b9ab4  ...      1\n",
              "5  00436515-870c-4b36-a041-de91049b9ab4  ...      1\n",
              "6  00436515-870c-4b36-a041-de91049b9ab4  ...      1\n",
              "7  00436515-870c-4b36-a041-de91049b9ab4  ...      1\n",
              "8  00569f44-917d-4c86-a842-81832af98c30  ...      0\n",
              "9  006cec2e-6ce2-4549-bffa-eadfcd1e9970  ...      0\n",
              "\n",
              "[10 rows x 7 columns]"
            ]
          },
          "metadata": {
            "tags": []
          },
          "execution_count": 16
        }
      ]
    },
    {
      "cell_type": "code",
      "metadata": {
        "id": "YALrCzQyobPj",
        "colab": {
          "base_uri": "https://localhost:8080/"
        },
        "outputId": "73139a7d-0507-436d-debb-f3f6b2e13af2"
      },
      "source": [
        "data = data.drop_duplicates()\n",
        "data.info()"
      ],
      "execution_count": null,
      "outputs": [
        {
          "output_type": "stream",
          "text": [
            "<class 'pandas.core.frame.DataFrame'>\n",
            "Int64Index: 30227 entries, 0 to 37626\n",
            "Data columns (total 7 columns):\n",
            " #   Column     Non-Null Count  Dtype  \n",
            "---  ------     --------------  -----  \n",
            " 0   patientId  30227 non-null  object \n",
            " 1   class      30227 non-null  object \n",
            " 2   x          9555 non-null   float64\n",
            " 3   y          9555 non-null   float64\n",
            " 4   width      9555 non-null   float64\n",
            " 5   height     9555 non-null   float64\n",
            " 6   Target     30227 non-null  int64  \n",
            "dtypes: float64(4), int64(1), object(2)\n",
            "memory usage: 1.8+ MB\n"
          ],
          "name": "stdout"
        }
      ]
    },
    {
      "cell_type": "code",
      "metadata": {
        "id": "my54s5qEIE87",
        "colab": {
          "base_uri": "https://localhost:8080/",
          "height": 284
        },
        "outputId": "da8f6590-79d5-4432-e161-7d7dceaf3f84"
      },
      "source": [
        "data.describe()"
      ],
      "execution_count": null,
      "outputs": [
        {
          "output_type": "execute_result",
          "data": {
            "text/html": [
              "<div>\n",
              "<style scoped>\n",
              "    .dataframe tbody tr th:only-of-type {\n",
              "        vertical-align: middle;\n",
              "    }\n",
              "\n",
              "    .dataframe tbody tr th {\n",
              "        vertical-align: top;\n",
              "    }\n",
              "\n",
              "    .dataframe thead th {\n",
              "        text-align: right;\n",
              "    }\n",
              "</style>\n",
              "<table border=\"1\" class=\"dataframe\">\n",
              "  <thead>\n",
              "    <tr style=\"text-align: right;\">\n",
              "      <th></th>\n",
              "      <th>x</th>\n",
              "      <th>y</th>\n",
              "      <th>width</th>\n",
              "      <th>height</th>\n",
              "      <th>Target</th>\n",
              "    </tr>\n",
              "  </thead>\n",
              "  <tbody>\n",
              "    <tr>\n",
              "      <th>count</th>\n",
              "      <td>9555.000000</td>\n",
              "      <td>9555.000000</td>\n",
              "      <td>9555.000000</td>\n",
              "      <td>9555.000000</td>\n",
              "      <td>30227.000000</td>\n",
              "    </tr>\n",
              "    <tr>\n",
              "      <th>mean</th>\n",
              "      <td>394.047724</td>\n",
              "      <td>366.839560</td>\n",
              "      <td>218.471376</td>\n",
              "      <td>329.269702</td>\n",
              "      <td>0.316108</td>\n",
              "    </tr>\n",
              "    <tr>\n",
              "      <th>std</th>\n",
              "      <td>204.574172</td>\n",
              "      <td>148.940488</td>\n",
              "      <td>59.289475</td>\n",
              "      <td>157.750755</td>\n",
              "      <td>0.464963</td>\n",
              "    </tr>\n",
              "    <tr>\n",
              "      <th>min</th>\n",
              "      <td>2.000000</td>\n",
              "      <td>2.000000</td>\n",
              "      <td>40.000000</td>\n",
              "      <td>45.000000</td>\n",
              "      <td>0.000000</td>\n",
              "    </tr>\n",
              "    <tr>\n",
              "      <th>25%</th>\n",
              "      <td>207.000000</td>\n",
              "      <td>249.000000</td>\n",
              "      <td>177.000000</td>\n",
              "      <td>203.000000</td>\n",
              "      <td>0.000000</td>\n",
              "    </tr>\n",
              "    <tr>\n",
              "      <th>50%</th>\n",
              "      <td>324.000000</td>\n",
              "      <td>365.000000</td>\n",
              "      <td>217.000000</td>\n",
              "      <td>298.000000</td>\n",
              "      <td>0.000000</td>\n",
              "    </tr>\n",
              "    <tr>\n",
              "      <th>75%</th>\n",
              "      <td>594.000000</td>\n",
              "      <td>478.500000</td>\n",
              "      <td>259.000000</td>\n",
              "      <td>438.000000</td>\n",
              "      <td>1.000000</td>\n",
              "    </tr>\n",
              "    <tr>\n",
              "      <th>max</th>\n",
              "      <td>835.000000</td>\n",
              "      <td>881.000000</td>\n",
              "      <td>528.000000</td>\n",
              "      <td>942.000000</td>\n",
              "      <td>1.000000</td>\n",
              "    </tr>\n",
              "  </tbody>\n",
              "</table>\n",
              "</div>"
            ],
            "text/plain": [
              "                 x            y        width       height        Target\n",
              "count  9555.000000  9555.000000  9555.000000  9555.000000  30227.000000\n",
              "mean    394.047724   366.839560   218.471376   329.269702      0.316108\n",
              "std     204.574172   148.940488    59.289475   157.750755      0.464963\n",
              "min       2.000000     2.000000    40.000000    45.000000      0.000000\n",
              "25%     207.000000   249.000000   177.000000   203.000000      0.000000\n",
              "50%     324.000000   365.000000   217.000000   298.000000      0.000000\n",
              "75%     594.000000   478.500000   259.000000   438.000000      1.000000\n",
              "max     835.000000   881.000000   528.000000   942.000000      1.000000"
            ]
          },
          "metadata": {
            "tags": []
          },
          "execution_count": 18
        }
      ]
    },
    {
      "cell_type": "markdown",
      "metadata": {
        "id": "eXpRug1wAPP4"
      },
      "source": [
        "Rows per patient ID"
      ]
    },
    {
      "cell_type": "code",
      "metadata": {
        "id": "LCaINK5hASr1",
        "colab": {
          "base_uri": "https://localhost:8080/"
        },
        "outputId": "bb31a3dc-ba93-4326-c45b-ca455934732b"
      },
      "source": [
        "data['patientId'].value_counts().head()"
      ],
      "execution_count": null,
      "outputs": [
        {
          "output_type": "execute_result",
          "data": {
            "text/plain": [
              "ee820aa5-4804-4984-97b3-f0a71d69702f    4\n",
              "0ab261f9-4eb5-42ab-a9a5-e918904d6356    4\n",
              "349f10b4-dc3e-4f3f-b2e4-a5b81448ce87    4\n",
              "8dc8e54b-5b05-4dac-80b9-fa48878621e2    4\n",
              "0d5bc737-03de-4bb8-98a1-45b7180c3e0f    4\n",
              "Name: patientId, dtype: int64"
            ]
          },
          "metadata": {
            "tags": []
          },
          "execution_count": 19
        }
      ]
    },
    {
      "cell_type": "code",
      "metadata": {
        "id": "GKF0evxpA6OW",
        "colab": {
          "base_uri": "https://localhost:8080/",
          "height": 166
        },
        "outputId": "081cece9-2674-4a37-94b5-b8ec3fb8330d"
      },
      "source": [
        "# checking a single patient ID\n",
        "\n",
        "data[data['patientId'] == '0e03c2d7-9cea-4dc7-8e91-794a8b3ff58d']"
      ],
      "execution_count": null,
      "outputs": [
        {
          "output_type": "execute_result",
          "data": {
            "text/html": [
              "<div>\n",
              "<style scoped>\n",
              "    .dataframe tbody tr th:only-of-type {\n",
              "        vertical-align: middle;\n",
              "    }\n",
              "\n",
              "    .dataframe tbody tr th {\n",
              "        vertical-align: top;\n",
              "    }\n",
              "\n",
              "    .dataframe thead th {\n",
              "        text-align: right;\n",
              "    }\n",
              "</style>\n",
              "<table border=\"1\" class=\"dataframe\">\n",
              "  <thead>\n",
              "    <tr style=\"text-align: right;\">\n",
              "      <th></th>\n",
              "      <th>patientId</th>\n",
              "      <th>class</th>\n",
              "      <th>x</th>\n",
              "      <th>y</th>\n",
              "      <th>width</th>\n",
              "      <th>height</th>\n",
              "      <th>Target</th>\n",
              "    </tr>\n",
              "  </thead>\n",
              "  <tbody>\n",
              "    <tr>\n",
              "      <th>36153</th>\n",
              "      <td>0e03c2d7-9cea-4dc7-8e91-794a8b3ff58d</td>\n",
              "      <td>Lung Opacity</td>\n",
              "      <td>654.0</td>\n",
              "      <td>444.0</td>\n",
              "      <td>160.0</td>\n",
              "      <td>103.0</td>\n",
              "      <td>1</td>\n",
              "    </tr>\n",
              "    <tr>\n",
              "      <th>36154</th>\n",
              "      <td>0e03c2d7-9cea-4dc7-8e91-794a8b3ff58d</td>\n",
              "      <td>Lung Opacity</td>\n",
              "      <td>531.0</td>\n",
              "      <td>206.0</td>\n",
              "      <td>289.0</td>\n",
              "      <td>213.0</td>\n",
              "      <td>1</td>\n",
              "    </tr>\n",
              "    <tr>\n",
              "      <th>36155</th>\n",
              "      <td>0e03c2d7-9cea-4dc7-8e91-794a8b3ff58d</td>\n",
              "      <td>Lung Opacity</td>\n",
              "      <td>686.0</td>\n",
              "      <td>545.0</td>\n",
              "      <td>128.0</td>\n",
              "      <td>106.0</td>\n",
              "      <td>1</td>\n",
              "    </tr>\n",
              "    <tr>\n",
              "      <th>36156</th>\n",
              "      <td>0e03c2d7-9cea-4dc7-8e91-794a8b3ff58d</td>\n",
              "      <td>Lung Opacity</td>\n",
              "      <td>213.0</td>\n",
              "      <td>386.0</td>\n",
              "      <td>114.0</td>\n",
              "      <td>161.0</td>\n",
              "      <td>1</td>\n",
              "    </tr>\n",
              "  </tbody>\n",
              "</table>\n",
              "</div>"
            ],
            "text/plain": [
              "                                  patientId         class  ...  height  Target\n",
              "36153  0e03c2d7-9cea-4dc7-8e91-794a8b3ff58d  Lung Opacity  ...   103.0       1\n",
              "36154  0e03c2d7-9cea-4dc7-8e91-794a8b3ff58d  Lung Opacity  ...   213.0       1\n",
              "36155  0e03c2d7-9cea-4dc7-8e91-794a8b3ff58d  Lung Opacity  ...   106.0       1\n",
              "36156  0e03c2d7-9cea-4dc7-8e91-794a8b3ff58d  Lung Opacity  ...   161.0       1\n",
              "\n",
              "[4 rows x 7 columns]"
            ]
          },
          "metadata": {
            "tags": []
          },
          "execution_count": 20
        }
      ]
    },
    {
      "cell_type": "code",
      "metadata": {
        "id": "ExIPgeeXBFbt",
        "colab": {
          "base_uri": "https://localhost:8080/"
        },
        "outputId": "ce21cc8d-0d0e-4e7c-c669-6e3b861c0b76"
      },
      "source": [
        "# Total number of patients\n",
        "\n",
        "data['patientId'].count()\n"
      ],
      "execution_count": null,
      "outputs": [
        {
          "output_type": "execute_result",
          "data": {
            "text/plain": [
              "30227"
            ]
          },
          "metadata": {
            "tags": []
          },
          "execution_count": 21
        }
      ]
    },
    {
      "cell_type": "code",
      "metadata": {
        "id": "jKO9LmGXCf7d",
        "colab": {
          "base_uri": "https://localhost:8080/"
        },
        "outputId": "f9468a88-e969-459a-8f81-554bd682672e"
      },
      "source": [
        "# Patients having Pneumonia\n",
        "\n",
        "data[data['Target'] == 1]['patientId'].count()"
      ],
      "execution_count": null,
      "outputs": [
        {
          "output_type": "execute_result",
          "data": {
            "text/plain": [
              "9555"
            ]
          },
          "metadata": {
            "tags": []
          },
          "execution_count": 22
        }
      ]
    },
    {
      "cell_type": "code",
      "metadata": {
        "id": "5kVdrRNhBrFt",
        "colab": {
          "base_uri": "https://localhost:8080/"
        },
        "outputId": "fed5af48-4a2f-4f9e-f39a-64ba1c5056e9"
      },
      "source": [
        "# Each of patients without pneumonia has only one row in dataset\n",
        "\n",
        "data[data['Target'] == 0]['patientId'].count()"
      ],
      "execution_count": null,
      "outputs": [
        {
          "output_type": "execute_result",
          "data": {
            "text/plain": [
              "20672"
            ]
          },
          "metadata": {
            "tags": []
          },
          "execution_count": 23
        }
      ]
    },
    {
      "cell_type": "markdown",
      "metadata": {
        "id": "9lWfg0U9CzWr"
      },
      "source": [
        "#Plots to check the distribution of data"
      ]
    },
    {
      "cell_type": "code",
      "metadata": {
        "id": "Sozl19-QDqAg"
      },
      "source": [
        "import matplotlib.pyplot as plt\n",
        "import seaborn as sns"
      ],
      "execution_count": null,
      "outputs": []
    },
    {
      "cell_type": "code",
      "metadata": {
        "id": "HG3N-6o6CERE",
        "colab": {
          "base_uri": "https://localhost:8080/",
          "height": 279
        },
        "outputId": "15ae6172-4e08-429b-c49a-ae0ff39afdb4"
      },
      "source": [
        "sns.countplot(x = 'class', hue = 'Target', data=data);"
      ],
      "execution_count": null,
      "outputs": [
        {
          "output_type": "display_data",
          "data": {
            "image/png": "[encoded data removed]",
            "text/plain": [
              "<Figure size 432x288 with 1 Axes>"
            ]
          },
          "metadata": {
            "tags": [],
            "needs_background": "light"
          }
        }
      ]
    },
    {
      "cell_type": "code",
      "metadata": {
        "id": "RTBh29gSD6EM",
        "colab": {
          "base_uri": "https://localhost:8080/"
        },
        "outputId": "978f5acb-5cff-4bfa-8253-8a3d35ef309d"
      },
      "source": [
        "data['class'].value_counts()"
      ],
      "execution_count": null,
      "outputs": [
        {
          "output_type": "execute_result",
          "data": {
            "text/plain": [
              "No Lung Opacity / Not Normal    11821\n",
              "Lung Opacity                     9555\n",
              "Normal                           8851\n",
              "Name: class, dtype: int64"
            ]
          },
          "metadata": {
            "tags": []
          },
          "execution_count": 26
        }
      ]
    },
    {
      "cell_type": "markdown",
      "metadata": {
        "id": "lg1auhy4Fa08"
      },
      "source": [
        "This means that only the class \"Lung Opacity\" are the patients having Pneumonia in the dataset and they have a \"Target\" set as 1 against them\n",
        "\n",
        "The other two classes(No Lung Opacity / Not Normal, Normal) have a \"Target\" set as 0 against them which means they do not have Pneumonia"
      ]
    },
    {
      "cell_type": "code",
      "metadata": {
        "id": "YnQDpJO1FkOX"
      },
      "source": [
        "# Checking few statistics of bounding box coordinates\n",
        "\n",
        "area = data.dropna()[['x', 'y', 'width', 'height']].copy()"
      ],
      "execution_count": null,
      "outputs": []
    },
    {
      "cell_type": "code",
      "metadata": {
        "id": "DvPOJDZCHGbF",
        "colab": {
          "base_uri": "https://localhost:8080/",
          "height": 195
        },
        "outputId": "f0024a5e-dbdc-425b-d90d-c680f1f3108b"
      },
      "source": [
        "area.head()"
      ],
      "execution_count": null,
      "outputs": [
        {
          "output_type": "execute_result",
          "data": {
            "text/html": [
              "<div>\n",
              "<style scoped>\n",
              "    .dataframe tbody tr th:only-of-type {\n",
              "        vertical-align: middle;\n",
              "    }\n",
              "\n",
              "    .dataframe tbody tr th {\n",
              "        vertical-align: top;\n",
              "    }\n",
              "\n",
              "    .dataframe thead th {\n",
              "        text-align: right;\n",
              "    }\n",
              "</style>\n",
              "<table border=\"1\" class=\"dataframe\">\n",
              "  <thead>\n",
              "    <tr style=\"text-align: right;\">\n",
              "      <th></th>\n",
              "      <th>x</th>\n",
              "      <th>y</th>\n",
              "      <th>width</th>\n",
              "      <th>height</th>\n",
              "    </tr>\n",
              "  </thead>\n",
              "  <tbody>\n",
              "    <tr>\n",
              "      <th>4</th>\n",
              "      <td>264.0</td>\n",
              "      <td>152.0</td>\n",
              "      <td>213.0</td>\n",
              "      <td>379.0</td>\n",
              "    </tr>\n",
              "    <tr>\n",
              "      <th>5</th>\n",
              "      <td>562.0</td>\n",
              "      <td>152.0</td>\n",
              "      <td>256.0</td>\n",
              "      <td>453.0</td>\n",
              "    </tr>\n",
              "    <tr>\n",
              "      <th>10</th>\n",
              "      <td>323.0</td>\n",
              "      <td>577.0</td>\n",
              "      <td>160.0</td>\n",
              "      <td>104.0</td>\n",
              "    </tr>\n",
              "    <tr>\n",
              "      <th>11</th>\n",
              "      <td>695.0</td>\n",
              "      <td>575.0</td>\n",
              "      <td>162.0</td>\n",
              "      <td>137.0</td>\n",
              "    </tr>\n",
              "    <tr>\n",
              "      <th>18</th>\n",
              "      <td>288.0</td>\n",
              "      <td>322.0</td>\n",
              "      <td>94.0</td>\n",
              "      <td>135.0</td>\n",
              "    </tr>\n",
              "  </tbody>\n",
              "</table>\n",
              "</div>"
            ],
            "text/plain": [
              "        x      y  width  height\n",
              "4   264.0  152.0  213.0   379.0\n",
              "5   562.0  152.0  256.0   453.0\n",
              "10  323.0  577.0  160.0   104.0\n",
              "11  695.0  575.0  162.0   137.0\n",
              "18  288.0  322.0   94.0   135.0"
            ]
          },
          "metadata": {
            "tags": []
          },
          "execution_count": 28
        }
      ]
    },
    {
      "cell_type": "code",
      "metadata": {
        "id": "lW-UNuKEJebK",
        "colab": {
          "base_uri": "https://localhost:8080/",
          "height": 284
        },
        "outputId": "c1b3afa7-2830-4098-d3f2-a207b1a6eb98"
      },
      "source": [
        "area.describe()"
      ],
      "execution_count": null,
      "outputs": [
        {
          "output_type": "execute_result",
          "data": {
            "text/html": [
              "<div>\n",
              "<style scoped>\n",
              "    .dataframe tbody tr th:only-of-type {\n",
              "        vertical-align: middle;\n",
              "    }\n",
              "\n",
              "    .dataframe tbody tr th {\n",
              "        vertical-align: top;\n",
              "    }\n",
              "\n",
              "    .dataframe thead th {\n",
              "        text-align: right;\n",
              "    }\n",
              "</style>\n",
              "<table border=\"1\" class=\"dataframe\">\n",
              "  <thead>\n",
              "    <tr style=\"text-align: right;\">\n",
              "      <th></th>\n",
              "      <th>x</th>\n",
              "      <th>y</th>\n",
              "      <th>width</th>\n",
              "      <th>height</th>\n",
              "    </tr>\n",
              "  </thead>\n",
              "  <tbody>\n",
              "    <tr>\n",
              "      <th>count</th>\n",
              "      <td>9555.000000</td>\n",
              "      <td>9555.000000</td>\n",
              "      <td>9555.000000</td>\n",
              "      <td>9555.000000</td>\n",
              "    </tr>\n",
              "    <tr>\n",
              "      <th>mean</th>\n",
              "      <td>394.047724</td>\n",
              "      <td>366.839560</td>\n",
              "      <td>218.471376</td>\n",
              "      <td>329.269702</td>\n",
              "    </tr>\n",
              "    <tr>\n",
              "      <th>std</th>\n",
              "      <td>204.574172</td>\n",
              "      <td>148.940488</td>\n",
              "      <td>59.289475</td>\n",
              "      <td>157.750755</td>\n",
              "    </tr>\n",
              "    <tr>\n",
              "      <th>min</th>\n",
              "      <td>2.000000</td>\n",
              "      <td>2.000000</td>\n",
              "      <td>40.000000</td>\n",
              "      <td>45.000000</td>\n",
              "    </tr>\n",
              "    <tr>\n",
              "      <th>25%</th>\n",
              "      <td>207.000000</td>\n",
              "      <td>249.000000</td>\n",
              "      <td>177.000000</td>\n",
              "      <td>203.000000</td>\n",
              "    </tr>\n",
              "    <tr>\n",
              "      <th>50%</th>\n",
              "      <td>324.000000</td>\n",
              "      <td>365.000000</td>\n",
              "      <td>217.000000</td>\n",
              "      <td>298.000000</td>\n",
              "    </tr>\n",
              "    <tr>\n",
              "      <th>75%</th>\n",
              "      <td>594.000000</td>\n",
              "      <td>478.500000</td>\n",
              "      <td>259.000000</td>\n",
              "      <td>438.000000</td>\n",
              "    </tr>\n",
              "    <tr>\n",
              "      <th>max</th>\n",
              "      <td>835.000000</td>\n",
              "      <td>881.000000</td>\n",
              "      <td>528.000000</td>\n",
              "      <td>942.000000</td>\n",
              "    </tr>\n",
              "  </tbody>\n",
              "</table>\n",
              "</div>"
            ],
            "text/plain": [
              "                 x            y        width       height\n",
              "count  9555.000000  9555.000000  9555.000000  9555.000000\n",
              "mean    394.047724   366.839560   218.471376   329.269702\n",
              "std     204.574172   148.940488    59.289475   157.750755\n",
              "min       2.000000     2.000000    40.000000    45.000000\n",
              "25%     207.000000   249.000000   177.000000   203.000000\n",
              "50%     324.000000   365.000000   217.000000   298.000000\n",
              "75%     594.000000   478.500000   259.000000   438.000000\n",
              "max     835.000000   881.000000   528.000000   942.000000"
            ]
          },
          "metadata": {
            "tags": []
          },
          "execution_count": 29
        }
      ]
    },
    {
      "cell_type": "code",
      "metadata": {
        "id": "mk3dwPatH9XP",
        "colab": {
          "base_uri": "https://localhost:8080/",
          "height": 606
        },
        "outputId": "fa27aceb-4e17-426b-8f61-41a7cfb3271a"
      },
      "source": [
        "n_columns = 2\n",
        "n_rows = 2\n",
        "_, axes = plt.subplots(n_rows, n_columns, figsize=(8 * n_columns, 5 * n_rows))\n",
        "for i, c in enumerate(area.columns):\n",
        "    sns.histplot(y = c, data = area, ax = axes[i // n_columns, i % n_columns])\n",
        "#plt.tight_layout()\n",
        "plt.show()"
      ],
      "execution_count": null,
      "outputs": [
        {
          "output_type": "display_data",
          "data": {
            "image/png": "[encoded data removed]",
            "text/plain": [
              "<Figure size 1152x720 with 4 Axes>"
            ]
          },
          "metadata": {
            "tags": [],
            "needs_background": "light"
          }
        }
      ]
    },
    {
      "cell_type": "code",
      "metadata": {
        "id": "ZD23bhk0-2nn",
        "colab": {
          "base_uri": "https://localhost:8080/",
          "height": 441
        },
        "outputId": "a2b6cac3-8c58-4030-a4ee-142f135fc321"
      },
      "source": [
        "# jointplot\n",
        "\n",
        "sns.jointplot(x = 'x', y = 'y', data = area, kind = 'hex', gridsize = 20);"
      ],
      "execution_count": null,
      "outputs": [
        {
          "output_type": "display_data",
          "data": {
            "image/png": "[encoded data removed]",
            "text/plain": [
              "<Figure size 432x432 with 3 Axes>"
            ]
          },
          "metadata": {
            "tags": [],
            "needs_background": "light"
          }
        }
      ]
    },
    {
      "cell_type": "code",
      "metadata": {
        "id": "PKEwK4zO_LM6",
        "colab": {
          "base_uri": "https://localhost:8080/",
          "height": 441
        },
        "outputId": "5eae75ea-226f-4b94-ebfd-bfb0d296c293"
      },
      "source": [
        "sns.jointplot(x = 'width', y = 'height', data = area, kind = 'hex', gridsize = 20);"
      ],
      "execution_count": null,
      "outputs": [
        {
          "output_type": "display_data",
          "data": {
            "image/png": "[encoded data removed]",
            "text/plain": [
              "<Figure size 432x432 with 3 Axes>"
            ]
          },
          "metadata": {
            "tags": [],
            "needs_background": "light"
          }
        }
      ]
    },
    {
      "cell_type": "markdown",
      "metadata": {
        "id": "-kHkB13q_P0l"
      },
      "source": [
        "Above plot shows that width and height have very tight correlation"
      ]
    },
    {
      "cell_type": "markdown",
      "metadata": {
        "id": "JBR6AQXfAgFp"
      },
      "source": [
        "# Analysis of meta information"
      ]
    },
    {
      "cell_type": "code",
      "metadata": {
        "id": "-VRkg1LS_PSA"
      },
      "source": [
        "data_meta = data.drop('class', axis=1).copy()"
      ],
      "execution_count": null,
      "outputs": []
    },
    {
      "cell_type": "code",
      "metadata": {
        "id": "4pdLB0ObA4vh",
        "colab": {
          "base_uri": "https://localhost:8080/",
          "height": 195
        },
        "outputId": "f85fec2b-e548-4a8d-a210-4d05bb7303d1"
      },
      "source": [
        "data_meta.head()"
      ],
      "execution_count": null,
      "outputs": [
        {
          "output_type": "execute_result",
          "data": {
            "text/html": [
              "<div>\n",
              "<style scoped>\n",
              "    .dataframe tbody tr th:only-of-type {\n",
              "        vertical-align: middle;\n",
              "    }\n",
              "\n",
              "    .dataframe tbody tr th {\n",
              "        vertical-align: top;\n",
              "    }\n",
              "\n",
              "    .dataframe thead th {\n",
              "        text-align: right;\n",
              "    }\n",
              "</style>\n",
              "<table border=\"1\" class=\"dataframe\">\n",
              "  <thead>\n",
              "    <tr style=\"text-align: right;\">\n",
              "      <th></th>\n",
              "      <th>patientId</th>\n",
              "      <th>x</th>\n",
              "      <th>y</th>\n",
              "      <th>width</th>\n",
              "      <th>height</th>\n",
              "      <th>Target</th>\n",
              "    </tr>\n",
              "  </thead>\n",
              "  <tbody>\n",
              "    <tr>\n",
              "      <th>0</th>\n",
              "      <td>0004cfab-14fd-4e49-80ba-63a80b6bddd6</td>\n",
              "      <td>NaN</td>\n",
              "      <td>NaN</td>\n",
              "      <td>NaN</td>\n",
              "      <td>NaN</td>\n",
              "      <td>0</td>\n",
              "    </tr>\n",
              "    <tr>\n",
              "      <th>1</th>\n",
              "      <td>00313ee0-9eaa-42f4-b0ab-c148ed3241cd</td>\n",
              "      <td>NaN</td>\n",
              "      <td>NaN</td>\n",
              "      <td>NaN</td>\n",
              "      <td>NaN</td>\n",
              "      <td>0</td>\n",
              "    </tr>\n",
              "    <tr>\n",
              "      <th>2</th>\n",
              "      <td>00322d4d-1c29-4943-afc9-b6754be640eb</td>\n",
              "      <td>NaN</td>\n",
              "      <td>NaN</td>\n",
              "      <td>NaN</td>\n",
              "      <td>NaN</td>\n",
              "      <td>0</td>\n",
              "    </tr>\n",
              "    <tr>\n",
              "      <th>3</th>\n",
              "      <td>003d8fa0-6bf1-40ed-b54c-ac657f8495c5</td>\n",
              "      <td>NaN</td>\n",
              "      <td>NaN</td>\n",
              "      <td>NaN</td>\n",
              "      <td>NaN</td>\n",
              "      <td>0</td>\n",
              "    </tr>\n",
              "    <tr>\n",
              "      <th>4</th>\n",
              "      <td>00436515-870c-4b36-a041-de91049b9ab4</td>\n",
              "      <td>264.0</td>\n",
              "      <td>152.0</td>\n",
              "      <td>213.0</td>\n",
              "      <td>379.0</td>\n",
              "      <td>1</td>\n",
              "    </tr>\n",
              "  </tbody>\n",
              "</table>\n",
              "</div>"
            ],
            "text/plain": [
              "                              patientId      x      y  width  height  Target\n",
              "0  0004cfab-14fd-4e49-80ba-63a80b6bddd6    NaN    NaN    NaN     NaN       0\n",
              "1  00313ee0-9eaa-42f4-b0ab-c148ed3241cd    NaN    NaN    NaN     NaN       0\n",
              "2  00322d4d-1c29-4943-afc9-b6754be640eb    NaN    NaN    NaN     NaN       0\n",
              "3  003d8fa0-6bf1-40ed-b54c-ac657f8495c5    NaN    NaN    NaN     NaN       0\n",
              "4  00436515-870c-4b36-a041-de91049b9ab4  264.0  152.0  213.0   379.0       1"
            ]
          },
          "metadata": {
            "tags": []
          },
          "execution_count": 34
        }
      ]
    },
    {
      "cell_type": "code",
      "metadata": {
        "id": "Y0wNRyaGBITh"
      },
      "source": [
        "from  tqdm import tqdm"
      ],
      "execution_count": null,
      "outputs": []
    },
    {
      "cell_type": "code",
      "metadata": {
        "id": "nlXO-7s5-F9q",
        "colab": {
          "base_uri": "https://localhost:8080/"
        },
        "outputId": "0834fa6f-7f5f-463f-b951-ca427e415006"
      },
      "source": [
        "patientId = data_meta['patientId'].drop_duplicates().values\n",
        "pat = patientId[:26684]\n",
        "patient_info = pd.DataFrame()\n",
        "\n",
        "for p in tqdm(pat):\n",
        "    ds = dicom.dcmread('/content/drive/My Drive/Capstone/stage_2_train_images/%s.dcm' % p, stop_before_pixels=True, defer_size='10 KB', specific_tags=[(0x0010, 0x1010), (0x0010, 0x0040), (0x0010, 0x0020), (0x0018, 0x5101)])\n",
        "    tmp_info = pd.DataFrame({\n",
        "        'patientId': [ds.PatientID],\n",
        "        'age': [ds.PatientAge],\n",
        "        'sex': [ds.PatientSex],\n",
        "        'viewPosition': [ds.ViewPosition]\n",
        "    })\n",
        "    patient_info = patient_info.append(tmp_info)\n",
        "\n",
        "\n",
        "# for p in pat:\n",
        "#   dcm_file = '/content/drive/My Drive/Capstone/stage_2_train_images/%s.dcm' % p\n",
        "#   dcm_data = dicom.dcmread(dcm_file, stop_before_pixels=True, specific_tags=[(0x0010, 0x1010), (0x0010, 0x0040), (0x0010, 0x0020), (0x0018, 0x5101)])\n",
        "#   print(dcm_data)"
      ],
      "execution_count": null,
      "outputs": [
        {
          "output_type": "stream",
          "text": [
            "100%|██████████| 26684/26684 [4:35:13<00:00,  1.62it/s]\n"
          ],
          "name": "stderr"
        }
      ]
    },
    {
      "cell_type": "code",
      "metadata": {
        "id": "VBDAk16j-zN_"
      },
      "source": [
        "patient_info.to_csv('/content/drive/My Drive/Capstone/patient_info.csv')"
      ],
      "execution_count": null,
      "outputs": []
    },
    {
      "cell_type": "code",
      "metadata": {
        "id": "WRAx0taD_0W0"
      },
      "source": [
        "patient_data = pd.read_csv('../Capstone/patient_info.csv', usecols=['patientId', 'age', 'sex', 'viewPosition'])"
      ],
      "execution_count": null,
      "outputs": []
    },
    {
      "cell_type": "code",
      "metadata": {
        "id": "3krwwpSH_Rf5"
      },
      "source": [
        "data_merged = pd.merge(data, patient_data, on='patientId')"
      ],
      "execution_count": null,
      "outputs": []
    },
    {
      "cell_type": "code",
      "metadata": {
        "id": "A-LbuJi1AaEg",
        "colab": {
          "base_uri": "https://localhost:8080/",
          "height": 195
        },
        "outputId": "6045c837-4315-4701-c1c8-bef0c7914ce3"
      },
      "source": [
        "data_merged.head()"
      ],
      "execution_count": null,
      "outputs": [
        {
          "output_type": "execute_result",
          "data": {
            "text/html": [
              "<div>\n",
              "<style scoped>\n",
              "    .dataframe tbody tr th:only-of-type {\n",
              "        vertical-align: middle;\n",
              "    }\n",
              "\n",
              "    .dataframe tbody tr th {\n",
              "        vertical-align: top;\n",
              "    }\n",
              "\n",
              "    .dataframe thead th {\n",
              "        text-align: right;\n",
              "    }\n",
              "</style>\n",
              "<table border=\"1\" class=\"dataframe\">\n",
              "  <thead>\n",
              "    <tr style=\"text-align: right;\">\n",
              "      <th></th>\n",
              "      <th>patientId</th>\n",
              "      <th>class</th>\n",
              "      <th>x</th>\n",
              "      <th>y</th>\n",
              "      <th>width</th>\n",
              "      <th>height</th>\n",
              "      <th>Target</th>\n",
              "      <th>age</th>\n",
              "      <th>sex</th>\n",
              "      <th>viewPosition</th>\n",
              "    </tr>\n",
              "  </thead>\n",
              "  <tbody>\n",
              "    <tr>\n",
              "      <th>0</th>\n",
              "      <td>0004cfab-14fd-4e49-80ba-63a80b6bddd6</td>\n",
              "      <td>No Lung Opacity / Not Normal</td>\n",
              "      <td>NaN</td>\n",
              "      <td>NaN</td>\n",
              "      <td>NaN</td>\n",
              "      <td>NaN</td>\n",
              "      <td>0</td>\n",
              "      <td>51</td>\n",
              "      <td>F</td>\n",
              "      <td>PA</td>\n",
              "    </tr>\n",
              "    <tr>\n",
              "      <th>1</th>\n",
              "      <td>00313ee0-9eaa-42f4-b0ab-c148ed3241cd</td>\n",
              "      <td>No Lung Opacity / Not Normal</td>\n",
              "      <td>NaN</td>\n",
              "      <td>NaN</td>\n",
              "      <td>NaN</td>\n",
              "      <td>NaN</td>\n",
              "      <td>0</td>\n",
              "      <td>48</td>\n",
              "      <td>F</td>\n",
              "      <td>PA</td>\n",
              "    </tr>\n",
              "    <tr>\n",
              "      <th>2</th>\n",
              "      <td>00322d4d-1c29-4943-afc9-b6754be640eb</td>\n",
              "      <td>No Lung Opacity / Not Normal</td>\n",
              "      <td>NaN</td>\n",
              "      <td>NaN</td>\n",
              "      <td>NaN</td>\n",
              "      <td>NaN</td>\n",
              "      <td>0</td>\n",
              "      <td>19</td>\n",
              "      <td>M</td>\n",
              "      <td>AP</td>\n",
              "    </tr>\n",
              "    <tr>\n",
              "      <th>3</th>\n",
              "      <td>003d8fa0-6bf1-40ed-b54c-ac657f8495c5</td>\n",
              "      <td>Normal</td>\n",
              "      <td>NaN</td>\n",
              "      <td>NaN</td>\n",
              "      <td>NaN</td>\n",
              "      <td>NaN</td>\n",
              "      <td>0</td>\n",
              "      <td>28</td>\n",
              "      <td>M</td>\n",
              "      <td>PA</td>\n",
              "    </tr>\n",
              "    <tr>\n",
              "      <th>4</th>\n",
              "      <td>00436515-870c-4b36-a041-de91049b9ab4</td>\n",
              "      <td>Lung Opacity</td>\n",
              "      <td>264.0</td>\n",
              "      <td>152.0</td>\n",
              "      <td>213.0</td>\n",
              "      <td>379.0</td>\n",
              "      <td>1</td>\n",
              "      <td>32</td>\n",
              "      <td>F</td>\n",
              "      <td>AP</td>\n",
              "    </tr>\n",
              "  </tbody>\n",
              "</table>\n",
              "</div>"
            ],
            "text/plain": [
              "                              patientId  ... viewPosition\n",
              "0  0004cfab-14fd-4e49-80ba-63a80b6bddd6  ...           PA\n",
              "1  00313ee0-9eaa-42f4-b0ab-c148ed3241cd  ...           PA\n",
              "2  00322d4d-1c29-4943-afc9-b6754be640eb  ...           AP\n",
              "3  003d8fa0-6bf1-40ed-b54c-ac657f8495c5  ...           PA\n",
              "4  00436515-870c-4b36-a041-de91049b9ab4  ...           AP\n",
              "\n",
              "[5 rows x 10 columns]"
            ]
          },
          "metadata": {
            "tags": []
          },
          "execution_count": 61
        }
      ]
    },
    {
      "cell_type": "code",
      "metadata": {
        "id": "4r805GN2EhNC",
        "colab": {
          "base_uri": "https://localhost:8080/"
        },
        "outputId": "0b8c6560-cf9d-4522-d973-9503783ed898"
      },
      "source": [
        "data_merged.shape"
      ],
      "execution_count": null,
      "outputs": [
        {
          "output_type": "execute_result",
          "data": {
            "text/plain": [
              "(30227, 10)"
            ]
          },
          "metadata": {
            "tags": []
          },
          "execution_count": 62
        }
      ]
    },
    {
      "cell_type": "code",
      "metadata": {
        "id": "YmhW1KmoEwWe"
      },
      "source": [
        "data_unique = data_merged.drop_duplicates('patientId', keep='first')"
      ],
      "execution_count": null,
      "outputs": []
    },
    {
      "cell_type": "code",
      "metadata": {
        "id": "RVU0YueLE9Dq",
        "colab": {
          "base_uri": "https://localhost:8080/"
        },
        "outputId": "9a15a546-648f-44d1-f725-2ac75860a215"
      },
      "source": [
        "data_unique.shape"
      ],
      "execution_count": null,
      "outputs": [
        {
          "output_type": "execute_result",
          "data": {
            "text/plain": [
              "(26684, 10)"
            ]
          },
          "metadata": {
            "tags": []
          },
          "execution_count": 64
        }
      ]
    },
    {
      "cell_type": "markdown",
      "metadata": {
        "id": "tAe1Xt5pD_3E"
      },
      "source": [
        "# Patient Age vs Target\n"
      ]
    },
    {
      "cell_type": "code",
      "metadata": {
        "id": "CSWucd7ED_Xl",
        "colab": {
          "base_uri": "https://localhost:8080/",
          "height": 458
        },
        "outputId": "10415b0c-6797-444a-fbc7-61dace47e9cc"
      },
      "source": [
        "fig, axes = plt.subplots(1, 2, figsize=(14, 7))\n",
        "\n",
        "p = sns.distplot(data_merged[data_merged['Target']==1]['age'], hist=True, kde=False, color='red', label='Target 1', ax=axes[0])\n",
        "p = sns.distplot(data_merged[data_merged['Target']==0]['age'], hist=True, kde=False, color='gray', label='Target 0', ax=axes[0])\n",
        "_ = p.set_ylabel('Count')\n",
        "_ = p.legend()\n",
        "_ = p.set_title('Multiple rows per patient')\n",
        "\n",
        "p = sns.distplot(data_unique[data_unique['Target']==1]['age'], hist=True, kde=False, color='red', label='Target 1', ax=axes[1])\n",
        "p = sns.distplot(data_unique[data_unique['Target']==0]['age'], hist=True, kde=False, color='gray', label='Target 0', ax=axes[1])\n",
        "_ = p.set_ylabel('Count')\n",
        "_ = p.legend()\n",
        "_ = p.set_title('Single row per patient')"
      ],
      "execution_count": null,
      "outputs": [
        {
          "output_type": "display_data",
          "data": {
            "image/png": "[encoded data removed]",
            "text/plain": [
              "<Figure size 1008x504 with 2 Axes>"
            ]
          },
          "metadata": {
            "tags": [],
            "needs_background": "light"
          }
        }
      ]
    },
    {
      "cell_type": "markdown",
      "metadata": {
        "id": "euA2F3FqgfUx"
      },
      "source": [
        "# Patient Age vs Class"
      ]
    },
    {
      "cell_type": "code",
      "metadata": {
        "id": "31CaD5iwFs_w",
        "colab": {
          "base_uri": "https://localhost:8080/",
          "height": 567
        },
        "outputId": "3b2f6d0a-edd2-4276-c6d9-9c0f5d1ec0fc"
      },
      "source": [
        "fig, axes = plt.subplots(3, 2, figsize=(14, 9), sharex=True)\n",
        "for i, _class in enumerate(data_merged['class'].dropna().unique()):\n",
        "    p = sns.distplot(data_merged[data_merged['class']==_class]['age'], hist=True, kde=False, ax=axes[i, 0])\n",
        "    _ = p.set_ylabel('Count')\n",
        "    _ = p.set_xlabel(f'PatientAge - {_class}')\n",
        "    if i == 0: p.set_title('Multiple rows per patient')\n",
        "    \n",
        "    p = sns.distplot(data_unique[data_unique['class']==_class]['age'], hist=True, kde=False, ax=axes[i, 1])\n",
        "    _ = p.set_ylabel('Count')\n",
        "    _ = p.set_xlabel(f'PatientAge - {_class}')\n",
        "    if i == 0: p.set_title('Single row per patient')"
      ],
      "execution_count": null,
      "outputs": [
        {
          "output_type": "display_data",
          "data": {
            "image/png": "[encoded data removed]",
            "text/plain": [
              "<Figure size 1008x648 with 6 Axes>"
            ]
          },
          "metadata": {
            "tags": [],
            "needs_background": "light"
          }
        }
      ]
    },
    {
      "cell_type": "markdown",
      "metadata": {
        "id": "XMwEq0bTHJwC"
      },
      "source": [
        "# Patient Sex vs Target"
      ]
    },
    {
      "cell_type": "code",
      "metadata": {
        "id": "YT7GtNnPHBev",
        "colab": {
          "base_uri": "https://localhost:8080/",
          "height": 458
        },
        "outputId": "089ac4b8-3f2d-419e-eade-d936076972a5"
      },
      "source": [
        "fig, axes = plt.subplots(1, 2, figsize=(14, 7))\n",
        "p = sns.countplot(x='sex', hue='Target', data=data_merged, ax=axes[0])\n",
        "_ = p.set_title('Multiple rows per patient')\n",
        "p = sns.countplot(x='sex', hue='Target', data=data_unique, ax=axes[1])\n",
        "_ = p.set_title('Single row per patient')"
      ],
      "execution_count": null,
      "outputs": [
        {
          "output_type": "display_data",
          "data": {
            "image/png": "[encoded data removed]",
            "text/plain": [
              "<Figure size 1008x504 with 2 Axes>"
            ]
          },
          "metadata": {
            "tags": [],
            "needs_background": "light"
          }
        }
      ]
    },
    {
      "cell_type": "markdown",
      "metadata": {
        "id": "getkigGkgOS8"
      },
      "source": [
        "#Patient Sex vs Class"
      ]
    },
    {
      "cell_type": "code",
      "metadata": {
        "id": "nlaLw2YzHccI",
        "colab": {
          "base_uri": "https://localhost:8080/",
          "height": 458
        },
        "outputId": "ef4a869a-32a4-4537-9c88-1d6ede078000"
      },
      "source": [
        "fig, axes = plt.subplots(1, 2, figsize=(14, 7))\n",
        "p = sns.countplot(x='sex', hue='class', data=data_merged, ax=axes[0])\n",
        "_ = p.set_title('Multiple rows per patient')\n",
        "p = sns.countplot(x='sex', hue='class', data=data_unique, ax=axes[1])\n",
        "_ = p.set_title('Single row per patient')"
      ],
      "execution_count": null,
      "outputs": [
        {
          "output_type": "display_data",
          "data": {
            "image/png": "[encoded data removed]",
            "text/plain": [
              "<Figure size 1008x504 with 2 Axes>"
            ]
          },
          "metadata": {
            "tags": [],
            "needs_background": "light"
          }
        }
      ]
    },
    {
      "cell_type": "markdown",
      "metadata": {
        "id": "vH_YsJtFjBQe"
      },
      "source": [
        "# Patient Age & Sex vs Target"
      ]
    },
    {
      "cell_type": "code",
      "metadata": {
        "id": "uw86m9GJf-FP",
        "colab": {
          "base_uri": "https://localhost:8080/",
          "height": 458
        },
        "outputId": "4316b560-d9ea-48a2-d064-ec5d0c517167"
      },
      "source": [
        "fig, axes = plt.subplots(1, 2, figsize=(14, 7))\n",
        "p = sns.boxplot(x='sex', y='age', hue='Target', data=data_merged, ax=axes[0])\n",
        "_ = p.set_title('Multiple rows per patient')\n",
        "p = sns.boxplot(x='sex', y='age', hue='Target', data=data_unique, ax=axes[1])\n",
        "_ = p.set_title('Single row per patient')"
      ],
      "execution_count": null,
      "outputs": [
        {
          "output_type": "display_data",
          "data": {
            "image/png": "[encoded data removed]",
            "text/plain": [
              "<Figure size 1008x504 with 2 Axes>"
            ]
          },
          "metadata": {
            "tags": [],
            "needs_background": "light"
          }
        }
      ]
    },
    {
      "cell_type": "markdown",
      "metadata": {
        "id": "pB3drnJJlTMm"
      },
      "source": [
        "# Patient Age & Sex vs Class"
      ]
    },
    {
      "cell_type": "code",
      "metadata": {
        "id": "79ANdtx2jmQt",
        "colab": {
          "base_uri": "https://localhost:8080/",
          "height": 458
        },
        "outputId": "fb385964-8343-4876-e486-49bb023e9b00"
      },
      "source": [
        "fig, axes = plt.subplots(1, 2, figsize=(14, 7))\n",
        "p = sns.boxplot(x='sex', y='age', hue='class', data=data_merged, ax=axes[0])\n",
        "_ = p.set_title('Multiple rows per patient')\n",
        "p = sns.boxplot(x='sex', y='age', hue='class', data=data_unique, ax=axes[1])\n",
        "_ = p.set_title('Single row per patient')"
      ],
      "execution_count": null,
      "outputs": [
        {
          "output_type": "display_data",
          "data": {
            "image/png": "[encoded data removed]",
            "text/plain": [
              "<Figure size 1008x504 with 2 Axes>"
            ]
          },
          "metadata": {
            "tags": [],
            "needs_background": "light"
          }
        }
      ]
    },
    {
      "cell_type": "markdown",
      "metadata": {
        "id": "JSxst7rtnmBU"
      },
      "source": [
        "# Patient Age vs ViewPosition"
      ]
    },
    {
      "cell_type": "code",
      "metadata": {
        "id": "_s03KlYzl7gs",
        "colab": {
          "base_uri": "https://localhost:8080/",
          "height": 458
        },
        "outputId": "a70c308e-fedf-404b-8efb-de641d77e722"
      },
      "source": [
        "fig, axes = plt.subplots(1, 2, figsize=(14, 7))\n",
        "\n",
        "p = sns.distplot(data_merged[data_merged['viewPosition']=='AP']['age'], hist=True, kde=False, color='red', label='AP', ax=axes[0])\n",
        "p = sns.distplot(data_merged[data_merged['viewPosition']=='PA']['age'], hist=True, kde=False, color='gray', label='PA', ax=axes[0])\n",
        "_ = p.set_ylabel('Count')\n",
        "_ = p.legend()\n",
        "_ = p.set_title('Multiple rows per patient')\n",
        "\n",
        "p = sns.distplot(data_unique[data_unique['viewPosition']=='AP']['age'], hist=True, kde=False, color='red', label='AP', ax=axes[1])\n",
        "p = sns.distplot(data_unique[data_unique['viewPosition']=='PA']['age'], hist=True, kde=False, color='gray', label='PA', ax=axes[1])\n",
        "_ = p.set_ylabel('Count')\n",
        "_ = p.legend()\n",
        "_ = p.set_title('Single row per patient')"
      ],
      "execution_count": null,
      "outputs": [
        {
          "output_type": "display_data",
          "data": {
            "image/png": "[encoded data removed]",
            "text/plain": [
              "<Figure size 1008x504 with 2 Axes>"
            ]
          },
          "metadata": {
            "tags": [],
            "needs_background": "light"
          }
        }
      ]
    },
    {
      "cell_type": "markdown",
      "metadata": {
        "id": "snzWKGC6o5kY"
      },
      "source": [
        "# Patient ViewPosition vs Sex"
      ]
    },
    {
      "cell_type": "code",
      "metadata": {
        "id": "-i6B2cHPoaa5",
        "colab": {
          "base_uri": "https://localhost:8080/",
          "height": 458
        },
        "outputId": "1711a55c-103e-4e8a-ba43-4f4e15af7114"
      },
      "source": [
        "fig, axes = plt.subplots(1, 2, figsize=(14, 7))\n",
        "p = sns.countplot(x='viewPosition', hue='sex', data=data_merged, ax=axes[0])\n",
        "_ = p.set_title('Multiple rows per patient')\n",
        "p = sns.countplot(x='viewPosition', hue='sex', data=data_unique, ax=axes[1])\n",
        "_ = p.set_title('Single row per patient')"
      ],
      "execution_count": null,
      "outputs": [
        {
          "output_type": "display_data",
          "data": {
            "image/png": "[encoded data removed]",
            "text/plain": [
              "<Figure size 1008x504 with 2 Axes>"
            ]
          },
          "metadata": {
            "tags": [],
            "needs_background": "light"
          }
        }
      ]
    },
    {
      "cell_type": "markdown",
      "metadata": {
        "id": "KsVqayv0tBHo"
      },
      "source": [
        "# Patient ViewPosition vs Target"
      ]
    },
    {
      "cell_type": "code",
      "metadata": {
        "id": "iTiA_LZjo76H",
        "colab": {
          "base_uri": "https://localhost:8080/",
          "height": 458
        },
        "outputId": "f51701c3-66c4-4fdf-92c3-ecf8cf26ec6a"
      },
      "source": [
        "fig, axes = plt.subplots(1, 2, figsize=(14, 7))\n",
        "p = sns.countplot(x='viewPosition', hue='Target', data=data_merged, ax=axes[0])\n",
        "_ = p.set_title('Multiple rows per patient')\n",
        "p = sns.countplot(x='viewPosition', hue='Target', data=data_unique, ax=axes[1])\n",
        "_ = p.set_title('Single row per patient')"
      ],
      "execution_count": null,
      "outputs": [
        {
          "output_type": "display_data",
          "data": {
            "image/png": "[encoded data removed]",
            "text/plain": [
              "<Figure size 1008x504 with 2 Axes>"
            ]
          },
          "metadata": {
            "tags": [],
            "needs_background": "light"
          }
        }
      ]
    },
    {
      "cell_type": "markdown",
      "metadata": {
        "id": "WylGin6Ft2Hr"
      },
      "source": [
        "# Patient ViewPosition vs Class"
      ]
    },
    {
      "cell_type": "code",
      "metadata": {
        "id": "gFClaSjRtF7e",
        "colab": {
          "base_uri": "https://localhost:8080/",
          "height": 839
        },
        "outputId": "97b5afc2-28ee-453f-9481-1d7c2155be13"
      },
      "source": [
        "fig, axes = plt.subplots(1, 2, figsize=(14, 14))\n",
        "p = sns.countplot(x='viewPosition', hue='class', data=data_merged, ax=axes[0])\n",
        "_ = p.set_title('Multiple rows per patient')\n",
        "p = sns.countplot(x='viewPosition', hue='class', data=data_unique, ax=axes[1])\n",
        "_ = p.set_title('Single row per patient')"
      ],
      "execution_count": null,
      "outputs": [
        {
          "output_type": "display_data",
          "data": {
            "image/png": "[encoded data removed]",
            "text/plain": [
              "<Figure size 1008x1008 with 2 Axes>"
            ]
          },
          "metadata": {
            "tags": [],
            "needs_background": "light"
          }
        }
      ]
    },
    {
      "cell_type": "markdown",
      "metadata": {
        "id": "-XQcK6RGcx5M"
      },
      "source": [
        "#Displaying the train images"
      ]
    },
    {
      "cell_type": "code",
      "metadata": {
        "id": "wFJC6byXc5A8"
      },
      "source": [
        "train_images_dir = '/content/drive/My Drive/Capstone/stage_2_train_images/'\n",
        "train_images = [f for f in listdir(train_images_dir) if isfile(join(train_images_dir, f))]"
      ],
      "execution_count": null,
      "outputs": []
    },
    {
      "cell_type": "code",
      "metadata": {
        "id": "hv0C45ncdGUJ"
      },
      "source": [
        "#Plotting a few train images\n",
        "plt.style.use('default')\n",
        "fig=plt.figure(figsize=(10, 10))\n",
        "columns = 4; rows = 4\n",
        "for i in range(1, columns*rows +1):\n",
        "    ds = dicom.dcmread(train_images_dir + train_images[i])\n",
        "    fig.add_subplot(rows, columns, i)\n",
        "    plt.imshow(ds.pixel_array, cmap=plt.cm.bone)\n",
        "    fig.add_subplot"
      ],
      "execution_count": null,
      "outputs": []
    },
    {
      "cell_type": "code",
      "metadata": {
        "id": "m5QCvpiQdRMi"
      },
      "source": [
        "#Converting csv into data dictionary so as to get the path of dicom file, target and bounding box coordinate for a patient id all into one structure\n",
        "def parse_data(df):\n",
        "  extract_box = lambda row: [row['y'], row['x'], row['height'], row['width']]\n",
        "\n",
        "  parsed = {}\n",
        "  for n, row in df.iterrows():\n",
        "  #Initialize patient entry into parsed \n",
        "      pid = row['patientId']\n",
        "      if pid not in parsed:\n",
        "          parsed[pid] = {\n",
        "                'dicom': '/content/drive/My Drive/Capstone/stage_2_train_images/%s.dcm' % pid,\n",
        "                'label': row['Target'],\n",
        "                'boxes': []}\n",
        "\n",
        "#Add box if opacity is present\n",
        "      if parsed[pid]['label'] == 1:\n",
        "          parsed[pid]['boxes'].append(extract_box(row))\n",
        "  return parsed"
      ],
      "execution_count": null,
      "outputs": []
    },
    {
      "cell_type": "code",
      "metadata": {
        "id": "4X6L9djWd3mz"
      },
      "source": [
        "#Using the parse_data function for our data and checking one entry\n",
        "parsed = parse_data(data)\n",
        "print(parsed['00436515-870c-4b36-a041-de91049b9ab4'])"
      ],
      "execution_count": null,
      "outputs": []
    },
    {
      "cell_type": "code",
      "metadata": {
        "id": "rFyXObPEeCRj"
      },
      "source": [
        "#Function to draw single patient bounding box on the image\n",
        "\n",
        "def draw(df):\n",
        "    #Open DICOM file\n",
        "    d = dicom.read_file(df['dicom'])\n",
        "    im = d.pixel_array\n",
        "\n",
        "    #Convert from single-channel grayscale to 3-channel RGB\n",
        "    im = np.stack([im] * 3, axis=2)\n",
        "\n",
        "    #Add boxes with red color if present\n",
        "    for box in df['boxes']:\n",
        "        rgb = [255, 0, 0]\n",
        "        im = overlay_box(im=im, box=box, rgb=rgb, stroke=6)\n",
        "\n",
        "    pylab.imshow(im, cmap=pylab.cm.gist_gray)\n",
        "    pylab.axis('off')\n",
        "\n",
        "#Function to get a coloured boundary box in the image\n",
        "def overlay_box(im, box, rgb, stroke=1):\n",
        "    #Convert coordinates to integers\n",
        "    box = [int(b) for b in box]\n",
        "    \n",
        "    #Extract coordinates\n",
        "    y1, x1, height, width = box\n",
        "    y2 = y1 + height\n",
        "    x2 = x1 + width\n",
        "\n",
        "    im[y1:y1 + stroke, x1:x2] = rgb\n",
        "    im[y2:y2 + stroke, x1:x2] = rgb\n",
        "    im[y1:y2, x1:x1 + stroke] = rgb\n",
        "    im[y1:y2, x2:x2 + stroke] = rgb\n",
        "\n",
        "    return im"
      ],
      "execution_count": null,
      "outputs": []
    },
    {
      "cell_type": "code",
      "metadata": {
        "id": "6E8eTFvUidHM"
      },
      "source": [
        "#Looking at images with boxes plotted\n",
        "plt.style.use('default')\n",
        "fig=plt.figure(figsize=(10, 10))\n",
        "columns = 4; rows = 4\n",
        "for i in range(1, columns*rows +1):\n",
        "    fig.add_subplot(rows, columns, i)\n",
        "    draw(parsed[data['patientId'].unique()[i]])\n",
        "    fig.add_subplot"
      ],
      "execution_count": null,
      "outputs": []
    },
    {
      "cell_type": "code",
      "metadata": {
        "id": "RuZRNA3CifPl"
      },
      "source": [
        "#Comapring the 3 classses : Opacity, Normal and Not Normal\n",
        "opacity = data \\\n",
        "    .loc[data['class'] == 'Lung Opacity'] \\\n",
        "    .reset_index()\n",
        "not_normal = data \\\n",
        "    .loc[data['class'] == 'No Lung Opacity / Not Normal'] \\\n",
        "    .reset_index()\n",
        "normal = data \\\n",
        "    .loc[data['class'] == 'Normal'] \\\n",
        "    .reset_index()\n",
        "\n",
        "fig=plt.figure(figsize=(10, 10))\n",
        "columns = 3; rows = 1\n",
        "fig.add_subplot(rows, columns, 1).set_title(\"Normal\", fontsize=30)\n",
        "draw(parsed[normal['patientId'].unique()[0]])\n",
        "fig.add_subplot(rows, columns, 2).set_title(\"Not Normal\", fontsize=30)\n",
        "# ax2.set_title(\"Not Normal\", fontsize=30)\n",
        "draw(parsed[not_normal['patientId'].unique()[0]])\n",
        "fig.add_subplot(rows, columns, 3).set_title(\"Opacity\", fontsize=30)\n",
        "# ax3.set_title(\"Opacity\", fontsize=30)\n",
        "draw(parsed[opacity['patientId'].unique()[0]])"
      ],
      "execution_count": null,
      "outputs": []
    }
  ]
}